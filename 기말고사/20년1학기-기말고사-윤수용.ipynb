{
  "nbformat": 4,
  "nbformat_minor": 0,
  "metadata": {
    "colab": {
      "name": "20년1학기-기말고사.ipynb",
      "provenance": [],
      "collapsed_sections": []
    },
    "kernelspec": {
      "name": "python3",
      "display_name": "Python 3"
    }
  },
  "cells": [
    {
      "cell_type": "markdown",
      "metadata": {
        "id": "USdoQTkkAfiU",
        "colab_type": "text"
      },
      "source": [
        "# 2020년 1학기 기말시험"
      ]
    },
    {
      "cell_type": "markdown",
      "metadata": {
        "id": "Yg0l6Iz-NbQX",
        "colab_type": "text"
      },
      "source": [
        "# 이름 : 윤수용\n",
        "\n"
      ]
    },
    {
      "cell_type": "markdown",
      "metadata": {
        "id": "dde2pQdBKaXE",
        "colab_type": "text"
      },
      "source": [
        "https://colab.research.google.com/에 import하여 셀에 답을 적고 RUN하십시오. 출력한 결과에 따라 스코어링됩니다."
      ]
    },
    {
      "cell_type": "markdown",
      "metadata": {
        "id": "vytowRjHlN1F",
        "colab_type": "text"
      },
      "source": [
        "Q1. CNN 신경망에서 2D 컨볼루션 레이어를 거친 행렬의 값을 파이썬 array형태로 적으시오. 계산을 위해 계산기앱 또는 액셀을 사용해도 좋습니다.\n"
      ]
    },
    {
      "cell_type": "code",
      "metadata": {
        "id": "vO3cm719mB64",
        "colab_type": "code",
        "colab": {
          "base_uri": "https://localhost:8080/",
          "height": 35
        },
        "outputId": "1a84995b-ffe9-4339-de9b-48879247c01f"
      },
      "source": [
        "\"\"\" 문제\n",
        "x = [[1,2,3],\n",
        "     [4,5,6],\n",
        "     [7,8,9]]\n",
        "     \n",
        "kernel W =[[0,1],\n",
        "          [1,0]]\n",
        "\n",
        "Padding = VALID\n",
        "\n",
        "convolution을 한 결과를 행렬 y로 하여 print(y)로 출력하시오.\n",
        "\"\"\"\n",
        "y= [[6,8], [12,14]]\n",
        "# 여러분의 answer를 파이썬 어레이로 적고 Run하시오.\n",
        "print(y)"
      ],
      "execution_count": 1,
      "outputs": [
        {
          "output_type": "stream",
          "text": [
            "[[6, 8], [12, 14]]\n"
          ],
          "name": "stdout"
        }
      ]
    },
    {
      "cell_type": "markdown",
      "metadata": {
        "id": "ntyM0f5Rgq5t",
        "colab_type": "text"
      },
      "source": [
        "Q2, 아래의 Confusion Matrix를 보고 질문에 답하시오"
      ]
    },
    {
      "cell_type": "code",
      "metadata": {
        "id": "cjqJY4QkYg55",
        "colab_type": "code",
        "outputId": "ca16e368-b3dc-4ae2-8e48-4e39a0a45eed",
        "colab": {
          "base_uri": "https://localhost:8080/",
          "height": 334
        }
      },
      "source": [
        "# 문제 : 아래의 혼동행렬을 보고 TPR과 FNR을 계산하시오. 단 계산하는 공식을 파이썬으로 코딩하여 값을 구하시오.\n",
        "# 혼동행렬의 row는 실제값, column은 예측값, (1,1)이 True & Positive\n",
        "# 정의 : TPR = True Postive rate, FNR = False Negative rate\n",
        "import seaborn as sn\n",
        "import pandas as pd\n",
        "import matplotlib.pyplot as plt\n",
        "import numpy as np\n",
        "\n",
        "array = np.array([[850,6],\n",
        "                  [50,94]])         \n",
        "\n",
        "sn.set(font_scale=2.0) # for label size\n",
        "sn.heatmap(array, annot=True, annot_kws={\"size\": 18}, fmt='d') # font size\n",
        "\n",
        "plt.show()"
      ],
      "execution_count": 5,
      "outputs": [
        {
          "output_type": "stream",
          "text": [
            "/usr/local/lib/python3.6/dist-packages/statsmodels/tools/_testing.py:19: FutureWarning: pandas.util.testing is deprecated. Use the functions in the public API at pandas.testing instead.\n",
            "  import pandas.util.testing as tm\n"
          ],
          "name": "stderr"
        },
        {
          "output_type": "display_data",
          "data": {
            "image/png": "[encoded data removed]",
            "text/plain": [
              "<Figure size 432x288 with 2 Axes>"
            ]
          },
          "metadata": {
            "tags": []
          }
        }
      ]
    },
    {
      "cell_type": "code",
      "metadata": {
        "id": "1cwqB8OwUa36",
        "colab_type": "code",
        "outputId": "32e76eb0-4b39-4bd5-9005-0e8f440ca689",
        "colab": {
          "base_uri": "https://localhost:8080/",
          "height": 35
        }
      },
      "source": [
        "# Q2.1 TPR=?  아래에 계산식을 쓰고 Run 시키시오\n",
        "# 여러분의 코드 \n",
        "array = np.array(array)\n",
        "tpr=array[1,1]/(array[0,1]+array[1,1])\n",
        "print('TPR값은 ', tpr)"
      ],
      "execution_count": 6,
      "outputs": [
        {
          "output_type": "stream",
          "text": [
            "TPR값은  0.94\n"
          ],
          "name": "stdout"
        }
      ]
    },
    {
      "cell_type": "code",
      "metadata": {
        "id": "BzOe-Zgqkgdc",
        "colab_type": "code",
        "colab": {
          "base_uri": "https://localhost:8080/",
          "height": 35
        },
        "outputId": "2e34158c-7fc1-43c1-b3d1-e8d7df2af846"
      },
      "source": [
        "# Q2.2 FNR 계산을 위한 코드를 쓰고  Run하시오\n",
        "fnr = array[0,1]/(array[0,1]+array[1,1])\n",
        "print('FNR의 값은 ', fnr)"
      ],
      "execution_count": 7,
      "outputs": [
        {
          "output_type": "stream",
          "text": [
            "FNR의 값은  0.06\n"
          ],
          "name": "stdout"
        }
      ]
    },
    {
      "cell_type": "code",
      "metadata": {
        "id": "TK_zjLxMEiVM",
        "colab_type": "code",
        "colab": {
          "base_uri": "https://localhost:8080/",
          "height": 35
        },
        "outputId": "58721045-24d4-48a8-f7e3-cdca64baa2a7"
      },
      "source": [
        "#  Q2.3 accurary 계산을 위한 코드를 쓰고  Run하시오\n",
        "# acc = (tp + tn)/(tp+tn+fp+fn)\n",
        "acc = (array[1,1] + array[0,0]) / (array[0,0] + array[0,1] + array[1,0] + array[1,1])\n",
        "print('ACC의 값은 ', acc)"
      ],
      "execution_count": 8,
      "outputs": [
        {
          "output_type": "stream",
          "text": [
            "ACC의 값은  0.944\n"
          ],
          "name": "stdout"
        }
      ]
    },
    {
      "cell_type": "markdown",
      "metadata": {
        "id": "yukDPytdDmt7",
        "colab_type": "text"
      },
      "source": [
        "\n",
        "Q3. 다음 신경망 다이어그램을 보고 이를 구현하기 위한 파이썬 코드를 완성하시오"
      ]
    },
    {
      "cell_type": "code",
      "metadata": {
        "id": "dbbSoyMeINdZ",
        "colab_type": "code",
        "outputId": "e47710fe-26f2-471c-8eaa-34e739b2ccaf",
        "colab": {
          "base_uri": "https://localhost:8080/",
          "height": 555
        }
      },
      "source": [
        "! wget --no-check-certificate 'https://docs.google.com/uc?export=download&id=1jGQthuWngRlgUq7masWosTq1LyzwUAS7' -O 퍼셉트론.png\n",
        "from IPython.display import Image\n",
        "Image(\"퍼셉트론.png\", width=500)  "
      ],
      "execution_count": 9,
      "outputs": [
        {
          "output_type": "stream",
          "text": [
            "--2020-06-10 05:13:13--  https://docs.google.com/uc?export=download&id=1jGQthuWngRlgUq7masWosTq1LyzwUAS7\n",
            "Resolving docs.google.com (docs.google.com)... 74.125.197.102, 74.125.197.139, 74.125.197.113, ...\n",
            "Connecting to docs.google.com (docs.google.com)|74.125.197.102|:443... connected.\n",
            "HTTP request sent, awaiting response... 302 Moved Temporarily\n",
            "Location: https://doc-0s-1s-docs.googleusercontent.com/docs/securesc/ha0ro937gcuc7l7deffksulhg5h7mbp1/bgj7rnfghaq2hcvgalrurh8pca4k4j6b/1591765950000/04591858293269658552/*/1jGQthuWngRlgUq7masWosTq1LyzwUAS7?e=download [following]\n",
            "Warning: wildcards not supported in HTTP.\n",
            "--2020-06-10 05:13:13--  https://doc-0s-1s-docs.googleusercontent.com/docs/securesc/ha0ro937gcuc7l7deffksulhg5h7mbp1/bgj7rnfghaq2hcvgalrurh8pca4k4j6b/1591765950000/04591858293269658552/*/1jGQthuWngRlgUq7masWosTq1LyzwUAS7?e=download\n",
            "Resolving doc-0s-1s-docs.googleusercontent.com (doc-0s-1s-docs.googleusercontent.com)... 74.125.195.132, 2607:f8b0:400e:c09::84\n",
            "Connecting to doc-0s-1s-docs.googleusercontent.com (doc-0s-1s-docs.googleusercontent.com)|74.125.195.132|:443... connected.\n",
            "HTTP request sent, awaiting response... 200 OK\n",
            "Length: 18076 (18K) [image/png]\n",
            "Saving to: ‘퍼셉트론.png’\n",
            "\n",
            "\r퍼셉트론.png          0%[                    ]       0  --.-KB/s               \r퍼셉트론.png        100%[===================>]  17.65K  --.-KB/s    in 0s      \n",
            "\n",
            "2020-06-10 05:13:13 (104 MB/s) - ‘퍼셉트론.png’ saved [18076/18076]\n",
            "\n"
          ],
          "name": "stdout"
        },
        {
          "output_type": "execute_result",
          "data": {
            "image/png": "[encoded data removed]",
            "text/plain": [
              "<IPython.core.display.Image object>"
            ]
          },
          "metadata": {
            "tags": [],
            "image/png": {
              "width": 500
            }
          },
          "execution_count": 9
        }
      ]
    },
    {
      "cell_type": "code",
      "metadata": {
        "id": "wN6S1IvUt6jH",
        "colab_type": "code",
        "colab": {
          "base_uri": "https://localhost:8080/",
          "height": 264
        },
        "outputId": "2de3980e-1f09-4aa3-c7d6-d8da4c5c044f"
      },
      "source": [
        "#Q3. 위의 그림에 맞는 신경망을 코드로 설계하시오.\n",
        "import numpy as np\n",
        "import tensorflow as tf\n",
        "\n",
        "n = 4 # ?을 채우시오\n",
        "n_inputs = n  # ?을 채우시오\n",
        "n_hidden = n # ?을 채우시오 \n",
        "n_outputs = 2 # ?을 채우시오  \n",
        "X = tf.placeholder(tf.float64, shape=(None, n_inputs), name='X') # ?을 채우시오\n",
        "with tf.name_scope('nn'):\n",
        "  hidden1 = make_nn_layer('hidden1', n_hidden, X, activation=tf.nn.relu) # ?을 채우시오\n",
        "  outputs = make_nn_layer('outputs', n_outputs, hidden1) # ?을 채우시오\n"
      ],
      "execution_count": 16,
      "outputs": [
        {
          "output_type": "error",
          "ename": "AttributeError",
          "evalue": "ignored",
          "traceback": [
            "\u001b[0;31m---------------------------------------------------------------------------\u001b[0m",
            "\u001b[0;31mAttributeError\u001b[0m                            Traceback (most recent call last)",
            "\u001b[0;32m<ipython-input-16-3af40d5dd89d>\u001b[0m in \u001b[0;36m<module>\u001b[0;34m()\u001b[0m\n\u001b[1;32m      7\u001b[0m \u001b[0mn_hidden\u001b[0m \u001b[0;34m=\u001b[0m \u001b[0mn\u001b[0m \u001b[0;31m# ?을 채우시오\u001b[0m\u001b[0;34m\u001b[0m\u001b[0;34m\u001b[0m\u001b[0m\n\u001b[1;32m      8\u001b[0m \u001b[0mn_outputs\u001b[0m \u001b[0;34m=\u001b[0m \u001b[0;36m2\u001b[0m \u001b[0;31m# ?을 채우시오\u001b[0m\u001b[0;34m\u001b[0m\u001b[0;34m\u001b[0m\u001b[0m\n\u001b[0;32m----> 9\u001b[0;31m \u001b[0mX\u001b[0m \u001b[0;34m=\u001b[0m \u001b[0mtf\u001b[0m\u001b[0;34m.\u001b[0m\u001b[0mplaceholder\u001b[0m\u001b[0;34m(\u001b[0m\u001b[0mtf\u001b[0m\u001b[0;34m.\u001b[0m\u001b[0mfloat64\u001b[0m\u001b[0;34m,\u001b[0m \u001b[0mshape\u001b[0m\u001b[0;34m=\u001b[0m\u001b[0;34m(\u001b[0m\u001b[0;32mNone\u001b[0m\u001b[0;34m,\u001b[0m \u001b[0mn_inputs\u001b[0m\u001b[0;34m)\u001b[0m\u001b[0;34m,\u001b[0m \u001b[0mname\u001b[0m\u001b[0;34m=\u001b[0m\u001b[0;34m'X'\u001b[0m\u001b[0;34m)\u001b[0m \u001b[0;31m# ?을 채우시오\u001b[0m\u001b[0;34m\u001b[0m\u001b[0;34m\u001b[0m\u001b[0m\n\u001b[0m\u001b[1;32m     10\u001b[0m \u001b[0;32mwith\u001b[0m \u001b[0mtf\u001b[0m\u001b[0;34m.\u001b[0m\u001b[0mname_scope\u001b[0m\u001b[0;34m(\u001b[0m\u001b[0;34m'nn'\u001b[0m\u001b[0;34m)\u001b[0m\u001b[0;34m:\u001b[0m\u001b[0;34m\u001b[0m\u001b[0;34m\u001b[0m\u001b[0m\n\u001b[1;32m     11\u001b[0m   \u001b[0mhidden1\u001b[0m \u001b[0;34m=\u001b[0m \u001b[0mmake_nn_layer\u001b[0m\u001b[0;34m(\u001b[0m\u001b[0;34m'hidden1'\u001b[0m\u001b[0;34m,\u001b[0m \u001b[0mn_hidden\u001b[0m\u001b[0;34m,\u001b[0m \u001b[0mX\u001b[0m\u001b[0;34m,\u001b[0m \u001b[0mactivation\u001b[0m\u001b[0;34m=\u001b[0m\u001b[0mtf\u001b[0m\u001b[0;34m.\u001b[0m\u001b[0mnn\u001b[0m\u001b[0;34m.\u001b[0m\u001b[0mrelu\u001b[0m\u001b[0;34m)\u001b[0m \u001b[0;31m# ?을 채우시오\u001b[0m\u001b[0;34m\u001b[0m\u001b[0;34m\u001b[0m\u001b[0m\n",
            "\u001b[0;31mAttributeError\u001b[0m: module 'tensorflow' has no attribute 'placeholder'"
          ]
        }
      ]
    },
    {
      "cell_type": "markdown",
      "metadata": {
        "id": "lZg0CU3IEoG-",
        "colab_type": "text"
      },
      "source": [
        "Q4. 아래의 표를 보고 Keras 코드를 완성하시오\n"
      ]
    },
    {
      "cell_type": "code",
      "metadata": {
        "id": "e78Ut02SEs6q",
        "colab_type": "code",
        "outputId": "a6d3238d-7251-402d-a89c-91f02bd3a66e",
        "colab": {
          "base_uri": "https://localhost:8080/",
          "height": 54
        }
      },
      "source": [
        "#Q4 표\n",
        "\"\"\"\n",
        "Layer (type)                 Output Shape              Param #   \n",
        "=================================================================\n",
        "conv2d_6 (Conv2D)            (None, 24, 24, 32)        832       \n",
        "_________________________________________________________________\n",
        "max_pooling2d_5 (MaxPooling2 (None, 12, 12, 32)        0         \n",
        "_________________________________________________________________\n",
        "dropout_6 (Dropout)          (None, 12, 12, 32)        0         \n",
        "_________________________________________________________________\n",
        "conv2d_7 (Conv2D)            (None, 10, 10, 64)        18496     \n",
        "_________________________________________________________________\n",
        "max_pooling2d_6 (MaxPooling2 (None, 5, 5, 64)          0         \n",
        "_________________________________________________________________\n",
        "dropout_7 (Dropout)          (None, 5, 5, 64)          0         \n",
        "_________________________________________________________________\n",
        "conv2d_8 (Conv2D)            (None, 5, 5, 128)         8320      \n",
        "_________________________________________________________________\n",
        "max_pooling2d_7 (MaxPooling2 (None, 2, 2, 128)         0         \n",
        "_________________________________________________________________\n",
        "dropout_8 (Dropout)          (None, 2, 2, 128)         0         \n",
        "_________________________________________________________________\n",
        "flatten_3 (Flatten)          (None, 512)               0         \n",
        "_________________________________________________________________\n",
        "dense_5 (Dense)              (None, 128)               65664     \n",
        "_________________________________________________________________\n",
        "dense_6 (Dense)              (None, 10)                1290      \n",
        "=================================================================\n",
        "\n",
        "\"\"\""
      ],
      "execution_count": 0,
      "outputs": [
        {
          "output_type": "execute_result",
          "data": {
            "text/plain": [
              "'\\nLayer (type)                 Output Shape              Param #   \\n=================================================================\\nconv2d_6 (Conv2D)            (None, 24, 24, 32)        832       \\n_________________________________________________________________\\nmax_pooling2d_5 (MaxPooling2 (None, 12, 12, 32)        0         \\n_________________________________________________________________\\ndropout_6 (Dropout)          (None, 12, 12, 32)        0         \\n_________________________________________________________________\\nconv2d_7 (Conv2D)            (None, 10, 10, 64)        18496     \\n_________________________________________________________________\\nmax_pooling2d_6 (MaxPooling2 (None, 5, 5, 64)          0         \\n_________________________________________________________________\\ndropout_7 (Dropout)          (None, 5, 5, 64)          0         \\n_________________________________________________________________\\nconv2d_8 (Conv2D)            (None, 5, 5, 128)         8320      \\n_________________________________________________________________\\nmax_pooling2d_7 (MaxPooling2 (None, 2, 2, 128)         0         \\n_________________________________________________________________\\ndropout_8 (Dropout)          (None, 2, 2, 128)         0         \\n_________________________________________________________________\\nflatten_3 (Flatten)          (None, 512)               0         \\n_________________________________________________________________\\ndense_5 (Dense)              (None, 128)               65664     \\n_________________________________________________________________\\ndense_6 (Dense)              (None, 10)                1290      \\n=================================================================\\n\\n'"
            ]
          },
          "metadata": {
            "tags": []
          },
          "execution_count": 1
        }
      ]
    },
    {
      "cell_type": "code",
      "metadata": {
        "id": "c2RTLEClGqlC",
        "colab_type": "code",
        "colab": {
          "base_uri": "https://localhost:8080/",
          "height": 611
        },
        "outputId": "c810909e-1ad3-4218-f12d-806f928d9b6f"
      },
      "source": [
        "# Q4. 이곳에 위의 표에 맞는 딥러닝의 모델을 Keras로 코딩하십시오. 모델 부문만 작성하고 마지막에 print로 summary를 출력하십시오.\n",
        "# 가정 1 : input은 24 x 24의 흑백 이미지\n",
        "# 가정 2 : convolution layer에서 사용하는 activation function은 ReLU로 통일 \n",
        "# 가정 3 : maxpooling 시 pool_size는 2 x 2\n",
        "# 가정 4 : dropout rate는 0.5\n",
        "# 가정 5 : dense_5 layer에서 사용하는 activation function은 ReLU\n",
        "# 가정 6 : dense_6 layer에서 사용하는 activation function은 softmax\n",
        "import keras\n",
        "from keras.models import Sequential\n",
        "from keras.layers import Dense, Dropout, Flatten\n",
        "from keras.layers import Conv2D, MaxPooling2D\n",
        "from keras import backend as K\n",
        "from keras.layers.advanced_activations import LeakyReLU\n",
        "\n",
        "mymodel = Sequential()\n",
        "mymodel.add(Conv2D(32, (2,2), activation='relu', input_shape=(24,24,1)))\n",
        "mymodel.add(MaxPooling2D(pool_size=(2,2)))\n",
        "mymodel.add(LeakyReLU(alpha=0.5))\n",
        "\n",
        "mymodel.add(Conv2D(64, (2,2), activation='relu'))\n",
        "mymodel.add(MaxPooling2D(pool_size=(2,2)))\n",
        "mymodel.add(LeakyReLU(alpha=0.5))\n",
        "\n",
        "mymodel.add(Conv2D(128, (2,2), activation='relu'))\n",
        "mymodel.add(MaxPooling2D(pool_size=(2,2)))\n",
        "mymodel.add(LeakyReLU(alpha=0.5))\n",
        "mymodel.add(Flatten())\n",
        "\n",
        "mymodel.add(Dense(128, activation='linear'))\n",
        "mymodel.add(Dense(10, activation='softmax'))\n",
        "\n",
        "print(mymodel.summary())\n",
        "# The End"
      ],
      "execution_count": 19,
      "outputs": [
        {
          "output_type": "stream",
          "text": [
            "Model: \"sequential_3\"\n",
            "_________________________________________________________________\n",
            "Layer (type)                 Output Shape              Param #   \n",
            "=================================================================\n",
            "conv2d_5 (Conv2D)            (None, 23, 23, 32)        160       \n",
            "_________________________________________________________________\n",
            "max_pooling2d_5 (MaxPooling2 (None, 11, 11, 32)        0         \n",
            "_________________________________________________________________\n",
            "leaky_re_lu_4 (LeakyReLU)    (None, 11, 11, 32)        0         \n",
            "_________________________________________________________________\n",
            "conv2d_6 (Conv2D)            (None, 10, 10, 64)        8256      \n",
            "_________________________________________________________________\n",
            "max_pooling2d_6 (MaxPooling2 (None, 5, 5, 64)          0         \n",
            "_________________________________________________________________\n",
            "leaky_re_lu_5 (LeakyReLU)    (None, 5, 5, 64)          0         \n",
            "_________________________________________________________________\n",
            "conv2d_7 (Conv2D)            (None, 4, 4, 128)         32896     \n",
            "_________________________________________________________________\n",
            "max_pooling2d_7 (MaxPooling2 (None, 2, 2, 128)         0         \n",
            "_________________________________________________________________\n",
            "leaky_re_lu_6 (LeakyReLU)    (None, 2, 2, 128)         0         \n",
            "_________________________________________________________________\n",
            "flatten_2 (Flatten)          (None, 512)               0         \n",
            "_________________________________________________________________\n",
            "dense_2 (Dense)              (None, 128)               65664     \n",
            "_________________________________________________________________\n",
            "dense_3 (Dense)              (None, 10)                1290      \n",
            "=================================================================\n",
            "Total params: 108,266\n",
            "Trainable params: 108,266\n",
            "Non-trainable params: 0\n",
            "_________________________________________________________________\n",
            "None\n"
          ],
          "name": "stdout"
        }
      ]
    },
    {
      "cell_type": "markdown",
      "metadata": {
        "id": "k6z0l1F6d_SU",
        "colab_type": "text"
      },
      "source": [
        "Q5. 아래  코드가 출력하는 그래프에서 validation loss 값이 모든 epoch 구간에서 training loss 값보다 작도록  코드를 수정하시오. 현재의 그래프는 최적 상태가 아닙니다."
      ]
    },
    {
      "cell_type": "code",
      "metadata": {
        "id": "_3uvk7IVeIZs",
        "colab_type": "code",
        "outputId": "b09c22ed-6aad-4d4a-f95d-d76389993998",
        "colab": {
          "base_uri": "https://localhost:8080/",
          "height": 1000
        }
      },
      "source": [
        "from keras.datasets import mnist\n",
        "from matplotlib import pyplot as plt\n",
        "plt.style.use('dark_background')\n",
        "from keras.models import Sequential\n",
        "from keras.layers import Dense, Flatten, Activation, Dropout\n",
        "from keras.utils import normalize, to_categorical\n",
        "\n",
        "(X_train, y_train), (X_test, y_test) = mnist.load_data()\n",
        "\n",
        "plt.imshow(X_train[0], cmap = plt.cm.binary)\n",
        "plt.show()\n",
        "\n",
        "X_train = normalize(X_train, axis=1)\n",
        "X_test = normalize(X_test, axis=1)\n",
        "y_train = to_categorical(y_train)\n",
        "y_test = to_categorical(y_test)\n",
        "\n",
        "model = Sequential()\n",
        "model.add(Flatten(input_shape=(28, 28)))\n",
        "model.add(Dense(128))\n",
        "model.add(Activation('relu'))\n",
        "model.add(Dense(128))\n",
        "model.add(Activation('relu'))\n",
        "model.add(Dense(10))\n",
        "model.add(Activation('softmax'))\n",
        "model.summary()\n",
        "\n",
        "model.compile(\n",
        "    loss='categorical_crossentropy',\n",
        "    optimizer='adam',\n",
        "    metrics=['accuracy']\n",
        ")\n",
        "history = model.fit(\n",
        "    X_train,\n",
        "    y_train,\n",
        "    epochs=10,\n",
        "    batch_size=32,\n",
        "    validation_split=0.1,\n",
        "    verbose = 1,\n",
        "    shuffle=True\n",
        ")\n",
        "\n",
        "loss = history.history['loss']\n",
        "val_loss = history.history['val_loss']\n",
        "epochs = range(1, len(loss) + 1)\n",
        "plt.plot(epochs, loss, 'y', label='Training loss')\n",
        "plt.plot(epochs, val_loss, 'r', label='Validation loss')\n",
        "plt.title('Training and validation loss')\n",
        "plt.xlabel('Epochs')\n",
        "plt.ylabel('Loss')\n",
        "plt.legend()\n",
        "plt.show()"
      ],
      "execution_count": 0,
      "outputs": [
        {
          "output_type": "display_data",
          "data": {
            "image/png": "[encoded data removed]",
            "text/plain": [
              "<Figure size 432x288 with 1 Axes>"
            ]
          },
          "metadata": {
            "tags": []
          }
        },
        {
          "output_type": "stream",
          "text": [
            "Model: \"sequential_62\"\n",
            "_________________________________________________________________\n",
            "Layer (type)                 Output Shape              Param #   \n",
            "=================================================================\n",
            "flatten_2 (Flatten)          (None, 784)               0         \n",
            "_________________________________________________________________\n",
            "dense_124 (Dense)            (None, 128)               100480    \n",
            "_________________________________________________________________\n",
            "activation_4 (Activation)    (None, 128)               0         \n",
            "_________________________________________________________________\n",
            "dense_125 (Dense)            (None, 128)               16512     \n",
            "_________________________________________________________________\n",
            "activation_5 (Activation)    (None, 128)               0         \n",
            "_________________________________________________________________\n",
            "dense_126 (Dense)            (None, 10)                1290      \n",
            "_________________________________________________________________\n",
            "activation_6 (Activation)    (None, 10)                0         \n",
            "=================================================================\n",
            "Total params: 118,282\n",
            "Trainable params: 118,282\n",
            "Non-trainable params: 0\n",
            "_________________________________________________________________\n",
            "Train on 54000 samples, validate on 6000 samples\n",
            "Epoch 1/10\n",
            "54000/54000 [==============================] - 6s 105us/step - loss: 0.2854 - accuracy: 0.9158 - val_loss: 0.1329 - val_accuracy: 0.9593\n",
            "Epoch 2/10\n",
            "54000/54000 [==============================] - 5s 93us/step - loss: 0.1171 - accuracy: 0.9638 - val_loss: 0.1014 - val_accuracy: 0.9700\n",
            "Epoch 3/10\n",
            "54000/54000 [==============================] - 5s 91us/step - loss: 0.0784 - accuracy: 0.9745 - val_loss: 0.0804 - val_accuracy: 0.9753\n",
            "Epoch 4/10\n",
            "54000/54000 [==============================] - 5s 93us/step - loss: 0.0577 - accuracy: 0.9811 - val_loss: 0.0853 - val_accuracy: 0.9748\n",
            "Epoch 5/10\n",
            "54000/54000 [==============================] - 5s 94us/step - loss: 0.0428 - accuracy: 0.9864 - val_loss: 0.1074 - val_accuracy: 0.9702\n",
            "Epoch 6/10\n",
            "54000/54000 [==============================] - 5s 91us/step - loss: 0.0342 - accuracy: 0.9889 - val_loss: 0.0929 - val_accuracy: 0.9740\n",
            "Epoch 7/10\n",
            "54000/54000 [==============================] - 5s 93us/step - loss: 0.0269 - accuracy: 0.9907 - val_loss: 0.0883 - val_accuracy: 0.9750\n",
            "Epoch 8/10\n",
            "54000/54000 [==============================] - 5s 96us/step - loss: 0.0214 - accuracy: 0.9928 - val_loss: 0.0952 - val_accuracy: 0.9760\n",
            "Epoch 9/10\n",
            "54000/54000 [==============================] - 5s 96us/step - loss: 0.0189 - accuracy: 0.9934 - val_loss: 0.0835 - val_accuracy: 0.9785\n",
            "Epoch 10/10\n",
            "54000/54000 [==============================] - 5s 97us/step - loss: 0.0157 - accuracy: 0.9944 - val_loss: 0.0943 - val_accuracy: 0.9798\n"
          ],
          "name": "stdout"
        },
        {
          "output_type": "display_data",
          "data": {
            "image/png": "[encoded data removed]",
            "text/plain": [
              "<Figure size 432x288 with 1 Axes>"
            ]
          },
          "metadata": {
            "tags": []
          }
        }
      ]
    },
    {
      "cell_type": "markdown",
      "metadata": {
        "id": "o176gKn3yL-O",
        "colab_type": "text"
      },
      "source": [
        "Q6. Mini-batch size & Learning Rate 튜닝"
      ]
    },
    {
      "cell_type": "code",
      "metadata": {
        "id": "achHRPhwHPF3",
        "colab_type": "code",
        "colab": {}
      },
      "source": [
        "# mlp for the blobs problem with minibatch gradient descent with varied batch size\n",
        "# 아래의 코드에서 다음 두 개의 파라미터를 조합하여 최고의 모델링 성능을 내고 그 결과를 print()로 출력하십시오.\n",
        "# 튜닝할 파라미터 : batch_size & lr (각각 3가지의 옵션이 있으므로 두 파라미터를 조합할 수 있는 경우의 수는 모두 9가지)\n",
        "# 모델의 성능 평가 기준은 다음의 우선순위에 따라 결정하시오. \n",
        "# 1. Validation Loss가 최소, 2. Accuracy는 최고값에 가까울 것\n",
        "# 9번의 실험 후 최적이라고 생각되는 파라미터 값을 코드에 지정하고 셀을 다시 run하여 최종 결과를 출력하시오.\n",
        "%%time\n",
        "from sklearn.datasets import make_blobs\n",
        "from keras.layers import Dense\n",
        "from keras.models import Sequential\n",
        "from keras.optimizers import SGD\n",
        "from keras.utils import to_categorical\n",
        "from matplotlib import pyplot\n",
        "\n",
        "# prepare train and test dataset\n",
        "def prepare_data():\n",
        "\t# generate 2d classification dataset\n",
        "\tX, y = make_blobs(n_samples=1000, centers=3, n_features=2, cluster_std=2, random_state=2)\n",
        "\t# one hot encode output variable\n",
        "\ty = to_categorical(y)\n",
        "\t# split into train and test\n",
        "\tn_train = 500\n",
        "\ttrainX, testX = X[:n_train, :], X[n_train:, :]\n",
        "\ttrainy, testy = y[:n_train], y[n_train:]\n",
        "\treturn trainX, trainy, testX, testy\n",
        "\n",
        "# fit a model and plot learning curve\n",
        "def fit_model(trainX, trainy, testX, testy, n_batch):\n",
        "\t\n",
        "  # define model\n",
        "\tmodel = Sequential()\n",
        "\tmodel.add(Dense(50, input_dim=2, activation='relu', kernel_initializer='he_uniform'))\n",
        "\tmodel.add(Dense(3, activation='softmax'))\n",
        "\t\n",
        "  # lr의 값을  0.1, 0.01, 0.001 중에서 선택하여 이곳에 지정\n",
        "\topt = SGD(lr=your_lr, momentum=0.9) \n",
        "\tmodel.compile(loss='categorical_crossentropy', optimizer=opt, metrics=['accuracy'])\n",
        "\t# fit model\n",
        "\thistory = model.fit(trainX, trainy, validation_data=(testX, testy), epochs=150, verbose=2, batch_size=n_batch)\n",
        "\tprint('accuracy = ', format(history.history['accuracy'][149],\".3f\"), ' ', 'validation loss = ', format(history.history['val_loss'][149],\".3f\"))\n",
        "  # plot learning curves\n",
        "\tpyplot.plot(history.history['accuracy'], label='train')\n",
        "\tpyplot.plot(history.history['val_loss'], label='test')\n",
        "\tpyplot.title('batch='+str(n_batch), pad=-40)\n",
        "\n",
        "\n",
        "\n",
        "# prepare dataset\n",
        "trainX, trainy, testX, testy = prepare_data()\n",
        "\n",
        "# batch_size의 값을   16, 32, 64 중에서 선택하여 이곳에 지정\n",
        "batch_size = your_batch_size\n",
        "\n",
        "fit_model(trainX, trainy, testX, testy, batch_size)\n",
        "# show learning curves\n",
        "pyplot.show()\n",
        "\n",
        "# 결과를 메모장에 적어놓고 lr과 batch_size를 바꿔가며 최적의 파라미터를 찾아가시오.\n",
        "# 최적의 lr과 batch_size를 선택하여 위의 코드에 적고 Run한 결과룰 출력하여 제출하시오. "
      ],
      "execution_count": 0,
      "outputs": []
    },
    {
      "cell_type": "markdown",
      "metadata": {
        "id": "U7B16qvfgODH",
        "colab_type": "text"
      },
      "source": [
        "Q7 . RNN 문장 생성기\n"
      ]
    },
    {
      "cell_type": "code",
      "metadata": {
        "id": "_2DqrQtH9Itp",
        "colab_type": "code",
        "colab": {
          "base_uri": "https://localhost:8080/",
          "height": 1000
        },
        "outputId": "ddaf5bd9-162c-4cb5-bc37-41e37506445e"
      },
      "source": [
        "# 다음의 코드를 완성하시오\n",
        "from tensorflow.keras.preprocessing.text import Tokenizer\n",
        "from tensorflow.keras.preprocessing.sequence import pad_sequences\n",
        "import numpy as np\n",
        "from tensorflow.keras.utils import to_categorical\n",
        "\n",
        "text=\"\"\"특히 최근 수도권에서는 교회 소모임 참석자에 이어 이들 가족과 지인으로 번지는 2차 감염 사례가 증가하고 있습니다. 중앙재난안전대책본부는 오늘까지 수도권 교회와 관련한 코로나19 확진자는 총 63명이라고 밝혔으며  2차 감염자는 33명 이라고 전했습니다. \"\"\"\n",
        "\n",
        "\n",
        "t = Tokenizer()\n",
        "t.fit_on_texts([text])\n",
        "vocab_size = len(t.word_index) + 1\n",
        "print('단어 집합의 크기 : %d' % vocab_size)\n",
        "\n",
        "\n",
        "print(t.word_index)\n",
        "\n",
        "sequences = list()\n",
        "for line in text.split('\\n'): \n",
        "    encoded = t.texts_to_sequences([line])[0]\n",
        "    for i in range(1, len(encoded)):\n",
        "        sequence = encoded[:i+1]\n",
        "        sequences.append(sequence)\n",
        "\n",
        "print('학습에 사용할 샘플의 개수: %d' % len(sequences))\n",
        "\n",
        "\n",
        "max_len=max(len(l) for l in sequences) \n",
        "\n",
        "sequences = pad_sequences(sequences, maxlen=max_len, padding='pre')\n",
        "\n",
        "sequences = np.array(sequences)\n",
        "X = sequences[:,:-1]\n",
        "y = sequences[:,-1]\n",
        "\n",
        "\n",
        "from tensorflow.keras.models import Sequential\n",
        "from tensorflow.keras.layers import Embedding, Dense, SimpleRNN\n",
        "\n",
        "model = Sequential()\n",
        "model.add(Embedding(vocab_size, 10, input_length=max_len-1))  \n",
        "model.add(SimpleRNN(32))\n",
        "model.add(Dense(vocab_size, activation='softmax'))\n",
        "model.compile(loss='sparse_categorical_crossentropy', optimizer='adam', metrics=['accuracy'])\n",
        "model.fit(X, y, epochs=120, verbose=2)\n",
        "\n",
        "# 이 블록에서 yoou_code_here 부분을 완성하시오\n",
        "def sentence_generation(model, t, current_word, n): # model = 모델, t = 토크나이저, current_word = 현재 단어, n = 반복할 횟수\n",
        "    init_word = current_word # 처음 들어온 단어도 마지막에 같이 출력하기위해 저장\n",
        "    sentence = ''\n",
        "    for _ in range(n): # n번 반복\n",
        "        encoded = t.texts_to_sequences([current_word])[0] # 현재 단어에 대한 정수 인코딩\n",
        "        encoded = pad_sequences([encoded], maxlen=30, padding='pre') # 데이터에 대한 패딩\n",
        "        result = np.argmax(model.predict(encoded), axis=-1)\n",
        "        for word, index in t.word_index.items(): \n",
        "            if index == result: # 만약 예측한 단어의 인덱스 값이 동일한 단어가 있다면\n",
        "                break # 해당 단어가 예측 단어이므로 break\n",
        "        current_word = current_word + ' ' + word # 현재 단어 + ' ' + 예측한 단어를 current_word로 저장\n",
        "        sentence = word.append(word)  # 예측한 단어를 sentence에 append\n",
        "     \n",
        "    sentence = np.concatenate((model, sentence), axis=None) # 초기의 텍스트와 for loop에서 생성된 텍스트를 concatenate\n",
        "    return sentence\n",
        "\n",
        "print(sentence_generation(model, t, '특히', 10))"
      ],
      "execution_count": 26,
      "outputs": [
        {
          "output_type": "stream",
          "text": [
            "단어 집합의 크기 : 31\n",
            "{'2차': 1, '특히': 2, '최근': 3, '수도권에서는': 4, '교회': 5, '소모임': 6, '참석자에': 7, '이어': 8, '이들': 9, '가족과': 10, '지인으로': 11, '번지는': 12, '감염': 13, '사례가': 14, '증가하고': 15, '있습니다': 16, '중앙재난안전대책본부는': 17, '오늘까지': 18, '수도권': 19, '교회와': 20, '관련한': 21, '코로나19': 22, '확진자는': 23, '총': 24, '63명이라고': 25, '밝혔으며': 26, '감염자는': 27, '33명': 28, '이라고': 29, '전했습니다': 30}\n",
            "학습에 사용할 샘플의 개수: 30\n",
            "Epoch 1/120\n",
            "1/1 - 0s - loss: 3.4340 - accuracy: 0.1000\n",
            "Epoch 2/120\n",
            "1/1 - 0s - loss: 3.4179 - accuracy: 0.1000\n",
            "Epoch 3/120\n",
            "1/1 - 0s - loss: 3.4021 - accuracy: 0.1000\n",
            "Epoch 4/120\n",
            "1/1 - 0s - loss: 3.3869 - accuracy: 0.0667\n",
            "Epoch 5/120\n",
            "1/1 - 0s - loss: 3.3725 - accuracy: 0.0667\n",
            "Epoch 6/120\n",
            "1/1 - 0s - loss: 3.3585 - accuracy: 0.1000\n",
            "Epoch 7/120\n",
            "1/1 - 0s - loss: 3.3445 - accuracy: 0.1333\n",
            "Epoch 8/120\n",
            "1/1 - 0s - loss: 3.3303 - accuracy: 0.1667\n",
            "Epoch 9/120\n",
            "1/1 - 0s - loss: 3.3156 - accuracy: 0.2000\n",
            "Epoch 10/120\n",
            "1/1 - 0s - loss: 3.3001 - accuracy: 0.1667\n",
            "Epoch 11/120\n",
            "1/1 - 0s - loss: 3.2831 - accuracy: 0.2000\n",
            "Epoch 12/120\n",
            "1/1 - 0s - loss: 3.2650 - accuracy: 0.2333\n",
            "Epoch 13/120\n",
            "1/1 - 0s - loss: 3.2461 - accuracy: 0.2333\n",
            "Epoch 14/120\n",
            "1/1 - 0s - loss: 3.2268 - accuracy: 0.2333\n",
            "Epoch 15/120\n",
            "1/1 - 0s - loss: 3.2073 - accuracy: 0.2333\n",
            "Epoch 16/120\n",
            "1/1 - 0s - loss: 3.1876 - accuracy: 0.2000\n",
            "Epoch 17/120\n",
            "1/1 - 0s - loss: 3.1683 - accuracy: 0.2000\n",
            "Epoch 18/120\n",
            "1/1 - 0s - loss: 3.1490 - accuracy: 0.2000\n",
            "Epoch 19/120\n",
            "1/1 - 0s - loss: 3.1291 - accuracy: 0.1667\n",
            "Epoch 20/120\n",
            "1/1 - 0s - loss: 3.1085 - accuracy: 0.1333\n",
            "Epoch 21/120\n",
            "1/1 - 0s - loss: 3.0876 - accuracy: 0.1667\n",
            "Epoch 22/120\n",
            "1/1 - 0s - loss: 3.0664 - accuracy: 0.2000\n",
            "Epoch 23/120\n",
            "1/1 - 0s - loss: 3.0450 - accuracy: 0.2000\n",
            "Epoch 24/120\n",
            "1/1 - 0s - loss: 3.0238 - accuracy: 0.2000\n",
            "Epoch 25/120\n",
            "1/1 - 0s - loss: 3.0023 - accuracy: 0.2667\n",
            "Epoch 26/120\n",
            "1/1 - 0s - loss: 2.9800 - accuracy: 0.2333\n",
            "Epoch 27/120\n",
            "1/1 - 0s - loss: 2.9572 - accuracy: 0.2333\n",
            "Epoch 28/120\n",
            "1/1 - 0s - loss: 2.9332 - accuracy: 0.2667\n",
            "Epoch 29/120\n",
            "1/1 - 0s - loss: 2.9090 - accuracy: 0.2667\n",
            "Epoch 30/120\n",
            "1/1 - 0s - loss: 2.8851 - accuracy: 0.2333\n",
            "Epoch 31/120\n",
            "1/1 - 0s - loss: 2.8634 - accuracy: 0.2667\n",
            "Epoch 32/120\n",
            "1/1 - 0s - loss: 2.8427 - accuracy: 0.2667\n",
            "Epoch 33/120\n",
            "1/1 - 0s - loss: 2.8210 - accuracy: 0.2667\n",
            "Epoch 34/120\n",
            "1/1 - 0s - loss: 2.7973 - accuracy: 0.3000\n",
            "Epoch 35/120\n",
            "1/1 - 0s - loss: 2.7745 - accuracy: 0.2667\n",
            "Epoch 36/120\n",
            "1/1 - 0s - loss: 2.7546 - accuracy: 0.2667\n",
            "Epoch 37/120\n",
            "1/1 - 0s - loss: 2.7328 - accuracy: 0.3000\n",
            "Epoch 38/120\n",
            "1/1 - 0s - loss: 2.7076 - accuracy: 0.2667\n",
            "Epoch 39/120\n",
            "1/1 - 0s - loss: 2.6874 - accuracy: 0.3333\n",
            "Epoch 40/120\n",
            "1/1 - 0s - loss: 2.6752 - accuracy: 0.3333\n",
            "Epoch 41/120\n",
            "1/1 - 0s - loss: 2.6766 - accuracy: 0.3000\n",
            "Epoch 42/120\n",
            "1/1 - 0s - loss: 2.6435 - accuracy: 0.3667\n",
            "Epoch 43/120\n",
            "1/1 - 0s - loss: 2.6421 - accuracy: 0.3667\n",
            "Epoch 44/120\n",
            "1/1 - 0s - loss: 2.5922 - accuracy: 0.4667\n",
            "Epoch 45/120\n",
            "1/1 - 0s - loss: 2.6074 - accuracy: 0.3667\n",
            "Epoch 46/120\n",
            "1/1 - 0s - loss: 2.5552 - accuracy: 0.5000\n",
            "Epoch 47/120\n",
            "1/1 - 0s - loss: 2.5512 - accuracy: 0.4667\n",
            "Epoch 48/120\n",
            "1/1 - 0s - loss: 2.5355 - accuracy: 0.5000\n",
            "Epoch 49/120\n",
            "1/1 - 0s - loss: 2.5124 - accuracy: 0.5000\n",
            "Epoch 50/120\n",
            "1/1 - 0s - loss: 2.4970 - accuracy: 0.5333\n",
            "Epoch 51/120\n",
            "1/1 - 0s - loss: 2.4706 - accuracy: 0.5333\n",
            "Epoch 52/120\n",
            "1/1 - 0s - loss: 2.4638 - accuracy: 0.5333\n",
            "Epoch 53/120\n",
            "1/1 - 0s - loss: 2.4427 - accuracy: 0.5333\n",
            "Epoch 54/120\n",
            "1/1 - 0s - loss: 2.4176 - accuracy: 0.5667\n",
            "Epoch 55/120\n",
            "1/1 - 0s - loss: 2.4110 - accuracy: 0.5333\n",
            "Epoch 56/120\n",
            "1/1 - 0s - loss: 2.3859 - accuracy: 0.5333\n",
            "Epoch 57/120\n",
            "1/1 - 0s - loss: 2.3728 - accuracy: 0.5333\n",
            "Epoch 58/120\n",
            "1/1 - 0s - loss: 2.3470 - accuracy: 0.5667\n",
            "Epoch 59/120\n",
            "1/1 - 0s - loss: 2.3435 - accuracy: 0.6000\n",
            "Epoch 60/120\n",
            "1/1 - 0s - loss: 2.3168 - accuracy: 0.6000\n",
            "Epoch 61/120\n",
            "1/1 - 0s - loss: 2.3028 - accuracy: 0.6000\n",
            "Epoch 62/120\n",
            "1/1 - 0s - loss: 2.2836 - accuracy: 0.5667\n",
            "Epoch 63/120\n",
            "1/1 - 0s - loss: 2.2588 - accuracy: 0.6333\n",
            "Epoch 64/120\n",
            "1/1 - 0s - loss: 2.2506 - accuracy: 0.6667\n",
            "Epoch 65/120\n",
            "1/1 - 0s - loss: 2.2209 - accuracy: 0.6333\n",
            "Epoch 66/120\n",
            "1/1 - 0s - loss: 2.2160 - accuracy: 0.6333\n",
            "Epoch 67/120\n",
            "1/1 - 0s - loss: 2.2004 - accuracy: 0.8000\n",
            "Epoch 68/120\n",
            "1/1 - 0s - loss: 2.1716 - accuracy: 0.8000\n",
            "Epoch 69/120\n",
            "1/1 - 0s - loss: 2.1998 - accuracy: 0.7333\n",
            "Epoch 70/120\n",
            "1/1 - 0s - loss: 2.1934 - accuracy: 0.7667\n",
            "Epoch 71/120\n",
            "1/1 - 0s - loss: 2.2024 - accuracy: 0.6667\n",
            "Epoch 72/120\n",
            "1/1 - 0s - loss: 2.1732 - accuracy: 0.7333\n",
            "Epoch 73/120\n",
            "1/1 - 0s - loss: 2.1203 - accuracy: 0.7000\n",
            "Epoch 74/120\n",
            "1/1 - 0s - loss: 2.1211 - accuracy: 0.7667\n",
            "Epoch 75/120\n",
            "1/1 - 0s - loss: 2.0723 - accuracy: 0.7667\n",
            "Epoch 76/120\n",
            "1/1 - 0s - loss: 2.0826 - accuracy: 0.8333\n",
            "Epoch 77/120\n",
            "1/1 - 0s - loss: 2.0626 - accuracy: 0.8333\n",
            "Epoch 78/120\n",
            "1/1 - 0s - loss: 2.0237 - accuracy: 0.8333\n",
            "Epoch 79/120\n",
            "1/1 - 0s - loss: 2.0095 - accuracy: 0.8000\n",
            "Epoch 80/120\n",
            "1/1 - 0s - loss: 2.0145 - accuracy: 0.8000\n",
            "Epoch 81/120\n",
            "1/1 - 0s - loss: 1.9727 - accuracy: 0.8000\n",
            "Epoch 82/120\n",
            "1/1 - 0s - loss: 1.9644 - accuracy: 0.8333\n",
            "Epoch 83/120\n",
            "1/1 - 0s - loss: 1.9526 - accuracy: 0.8667\n",
            "Epoch 84/120\n",
            "1/1 - 0s - loss: 1.9329 - accuracy: 0.8667\n",
            "Epoch 85/120\n",
            "1/1 - 0s - loss: 1.9156 - accuracy: 0.8667\n",
            "Epoch 86/120\n",
            "1/1 - 0s - loss: 1.8928 - accuracy: 0.8333\n",
            "Epoch 87/120\n",
            "1/1 - 0s - loss: 1.8765 - accuracy: 0.8333\n",
            "Epoch 88/120\n",
            "1/1 - 0s - loss: 1.8632 - accuracy: 0.8333\n",
            "Epoch 89/120\n",
            "1/1 - 0s - loss: 1.8474 - accuracy: 0.8667\n",
            "Epoch 90/120\n",
            "1/1 - 0s - loss: 1.8283 - accuracy: 0.8333\n",
            "Epoch 91/120\n",
            "1/1 - 0s - loss: 1.8093 - accuracy: 0.8333\n",
            "Epoch 92/120\n",
            "1/1 - 0s - loss: 1.7915 - accuracy: 0.8667\n",
            "Epoch 93/120\n",
            "1/1 - 0s - loss: 1.7724 - accuracy: 0.8667\n",
            "Epoch 94/120\n",
            "1/1 - 0s - loss: 1.7613 - accuracy: 0.8667\n",
            "Epoch 95/120\n",
            "1/1 - 0s - loss: 1.7371 - accuracy: 0.8667\n",
            "Epoch 96/120\n",
            "1/1 - 0s - loss: 1.7233 - accuracy: 0.8333\n",
            "Epoch 97/120\n",
            "1/1 - 0s - loss: 1.7056 - accuracy: 0.8667\n",
            "Epoch 98/120\n",
            "1/1 - 0s - loss: 1.6897 - accuracy: 0.8667\n",
            "Epoch 99/120\n",
            "1/1 - 0s - loss: 1.6689 - accuracy: 0.8667\n",
            "Epoch 100/120\n",
            "1/1 - 0s - loss: 1.6558 - accuracy: 0.9000\n",
            "Epoch 101/120\n",
            "1/1 - 0s - loss: 1.6401 - accuracy: 0.9000\n",
            "Epoch 102/120\n",
            "1/1 - 0s - loss: 1.6169 - accuracy: 0.8667\n",
            "Epoch 103/120\n",
            "1/1 - 0s - loss: 1.6066 - accuracy: 0.9000\n",
            "Epoch 104/120\n",
            "1/1 - 0s - loss: 1.5876 - accuracy: 0.9000\n",
            "Epoch 105/120\n",
            "1/1 - 0s - loss: 1.5663 - accuracy: 0.9333\n",
            "Epoch 106/120\n",
            "1/1 - 0s - loss: 1.5728 - accuracy: 0.9000\n",
            "Epoch 107/120\n",
            "1/1 - 0s - loss: 1.5998 - accuracy: 0.8667\n",
            "Epoch 108/120\n",
            "1/1 - 0s - loss: 1.5965 - accuracy: 0.9000\n",
            "Epoch 109/120\n",
            "1/1 - 0s - loss: 1.5601 - accuracy: 0.8333\n",
            "Epoch 110/120\n",
            "1/1 - 0s - loss: 1.5364 - accuracy: 0.9000\n",
            "Epoch 111/120\n",
            "1/1 - 0s - loss: 1.5412 - accuracy: 0.8667\n",
            "Epoch 112/120\n",
            "1/1 - 0s - loss: 1.4714 - accuracy: 0.9000\n",
            "Epoch 113/120\n",
            "1/1 - 0s - loss: 1.4728 - accuracy: 0.9667\n",
            "Epoch 114/120\n",
            "1/1 - 0s - loss: 1.4777 - accuracy: 0.9667\n",
            "Epoch 115/120\n",
            "1/1 - 0s - loss: 1.4281 - accuracy: 0.9667\n",
            "Epoch 116/120\n",
            "1/1 - 0s - loss: 1.4189 - accuracy: 0.9333\n",
            "Epoch 117/120\n",
            "1/1 - 0s - loss: 1.4129 - accuracy: 0.9000\n",
            "Epoch 118/120\n",
            "1/1 - 0s - loss: 1.3958 - accuracy: 0.9000\n",
            "Epoch 119/120\n",
            "1/1 - 0s - loss: 1.3793 - accuracy: 0.9000\n",
            "Epoch 120/120\n",
            "1/1 - 0s - loss: 1.3637 - accuracy: 0.9667\n"
          ],
          "name": "stdout"
        },
        {
          "output_type": "error",
          "ename": "AttributeError",
          "evalue": "ignored",
          "traceback": [
            "\u001b[0;31m---------------------------------------------------------------------------\u001b[0m",
            "\u001b[0;31mAttributeError\u001b[0m                            Traceback (most recent call last)",
            "\u001b[0;32m<ipython-input-26-4c0410868df4>\u001b[0m in \u001b[0;36m<module>\u001b[0;34m()\u001b[0m\n\u001b[1;32m     62\u001b[0m     \u001b[0;32mreturn\u001b[0m \u001b[0msentence\u001b[0m\u001b[0;34m\u001b[0m\u001b[0;34m\u001b[0m\u001b[0m\n\u001b[1;32m     63\u001b[0m \u001b[0;34m\u001b[0m\u001b[0m\n\u001b[0;32m---> 64\u001b[0;31m \u001b[0mprint\u001b[0m\u001b[0;34m(\u001b[0m\u001b[0msentence_generation\u001b[0m\u001b[0;34m(\u001b[0m\u001b[0mmodel\u001b[0m\u001b[0;34m,\u001b[0m \u001b[0mt\u001b[0m\u001b[0;34m,\u001b[0m \u001b[0;34m'특히'\u001b[0m\u001b[0;34m,\u001b[0m \u001b[0;36m10\u001b[0m\u001b[0;34m)\u001b[0m\u001b[0;34m)\u001b[0m\u001b[0;34m\u001b[0m\u001b[0;34m\u001b[0m\u001b[0m\n\u001b[0m",
            "\u001b[0;32m<ipython-input-26-4c0410868df4>\u001b[0m in \u001b[0;36msentence_generation\u001b[0;34m(model, t, current_word, n)\u001b[0m\n\u001b[1;32m     57\u001b[0m                 \u001b[0;32mbreak\u001b[0m \u001b[0;31m# 해당 단어가 예측 단어이므로 break\u001b[0m\u001b[0;34m\u001b[0m\u001b[0;34m\u001b[0m\u001b[0m\n\u001b[1;32m     58\u001b[0m         \u001b[0mcurrent_word\u001b[0m \u001b[0;34m=\u001b[0m \u001b[0mcurrent_word\u001b[0m \u001b[0;34m+\u001b[0m \u001b[0;34m' '\u001b[0m \u001b[0;34m+\u001b[0m \u001b[0mword\u001b[0m \u001b[0;31m# 현재 단어 + ' ' + 예측한 단어를 current_word로 저장\u001b[0m\u001b[0;34m\u001b[0m\u001b[0;34m\u001b[0m\u001b[0m\n\u001b[0;32m---> 59\u001b[0;31m         \u001b[0msentence\u001b[0m \u001b[0;34m=\u001b[0m \u001b[0mresult\u001b[0m\u001b[0;34m.\u001b[0m\u001b[0mappend\u001b[0m\u001b[0;34m(\u001b[0m\u001b[0mword\u001b[0m\u001b[0;34m)\u001b[0m  \u001b[0;31m# 예측한 단어를 sentence에 append\u001b[0m\u001b[0;34m\u001b[0m\u001b[0;34m\u001b[0m\u001b[0m\n\u001b[0m\u001b[1;32m     60\u001b[0m \u001b[0;34m\u001b[0m\u001b[0m\n\u001b[1;32m     61\u001b[0m     \u001b[0msentence\u001b[0m \u001b[0;34m=\u001b[0m \u001b[0mnp\u001b[0m\u001b[0;34m.\u001b[0m\u001b[0mconcatenate\u001b[0m\u001b[0;34m(\u001b[0m\u001b[0;34m(\u001b[0m\u001b[0mmodel\u001b[0m\u001b[0;34m,\u001b[0m \u001b[0msentence\u001b[0m\u001b[0;34m)\u001b[0m\u001b[0;34m,\u001b[0m \u001b[0maxis\u001b[0m\u001b[0;34m=\u001b[0m\u001b[0;32mNone\u001b[0m\u001b[0;34m)\u001b[0m \u001b[0;31m# 초기의 텍스트와 for loop에서 생성된 텍스트를 concatenate\u001b[0m\u001b[0;34m\u001b[0m\u001b[0;34m\u001b[0m\u001b[0m\n",
            "\u001b[0;31mAttributeError\u001b[0m: 'numpy.ndarray' object has no attribute 'append'"
          ]
        }
      ]
    },
    {
      "cell_type": "markdown",
      "metadata": {
        "id": "Q_ZqqZcvN1PQ",
        "colab_type": "text"
      },
      "source": [
        "## 20년1학기-기말고사-yourname.ipynb로 다운로드한 후 제출하십시오.\n",
        "수고하였습니다!"
      ]
    }
  ]
}